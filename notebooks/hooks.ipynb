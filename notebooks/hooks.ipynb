{
 "cells": [
  {
   "cell_type": "code",
   "execution_count": 1,
   "id": "f015c7a0-b5e6-4a70-897d-837ca2c0bb15",
   "metadata": {},
   "outputs": [
    {
     "name": "stderr",
     "output_type": "stream",
     "text": [
      "/home/versag/anaconda3/envs/liptrf/lib/python3.8/site-packages/tqdm/auto.py:22: TqdmWarning: IProgress not found. Please update jupyter and ipywidgets. See https://ipywidgets.readthedocs.io/en/stable/user_install.html\n",
      "  from .autonotebook import tqdm as notebook_tqdm\n"
     ]
    }
   ],
   "source": [
    "from liptrf.models.linear_toy import Net\n",
    "from liptrf.models.vit import ViT\n",
    "\n",
    "import torch.nn as nn \n",
    "import torch "
   ]
  },
  {
   "cell_type": "code",
   "execution_count": 2,
   "id": "93098903-41e7-441d-a582-597e8d87a0b3",
   "metadata": {},
   "outputs": [],
   "source": [
    "model = ViT(image_size=28, patch_size=7, num_classes=10, channels=1,\n",
    "            dim=128, depth=6, heads=8, mlp_ratio=4, attention_type='L2', lmbda=1)"
   ]
  },
  {
   "cell_type": "code",
   "execution_count": 3,
   "id": "4131a3b2-5b2e-4587-9edf-8c42ff89bb69",
   "metadata": {},
   "outputs": [],
   "source": [
    "class TestLayer(nn.Module):\n",
    "    def __init__(self):\n",
    "        super(TestLayer, self).__init__()\n",
    "        self.weight = nn.Parameter(torch.ones(32, 32))\n",
    "\n",
    "        def hook(self, input, output):\n",
    "            self.inp = input[0].detach()\n",
    "            self.out = output.detach()\n",
    "\n",
    "        self.register_forward_hook(hook)\n",
    "        \n",
    "    def forward(self, x):\n",
    "        return self.weight @ x "
   ]
  },
  {
   "cell_type": "code",
   "execution_count": 4,
   "id": "15ea373a-d2c2-4217-9ea6-8504d5406000",
   "metadata": {},
   "outputs": [],
   "source": [
    "tl = TestLayer()"
   ]
  },
  {
   "cell_type": "code",
   "execution_count": 5,
   "id": "cb13fba6-84b9-4236-9f09-6cd92e75fcd8",
   "metadata": {},
   "outputs": [
    {
     "data": {
      "text/plain": [
       "torch.Size([32])"
      ]
     },
     "execution_count": 5,
     "metadata": {},
     "output_type": "execute_result"
    }
   ],
   "source": [
    "inp = torch.ones(32)\n",
    "tl(inp).shape"
   ]
  },
  {
   "cell_type": "code",
   "execution_count": 6,
   "id": "6157015e-fde1-4f85-ba1e-06ff6b2d53ef",
   "metadata": {},
   "outputs": [
    {
     "data": {
      "text/plain": [
       "tensor([1., 1., 1., 1., 1., 1., 1., 1., 1., 1., 1., 1., 1., 1., 1., 1., 1., 1.,\n",
       "        1., 1., 1., 1., 1., 1., 1., 1., 1., 1., 1., 1., 1., 1.])"
      ]
     },
     "execution_count": 6,
     "metadata": {},
     "output_type": "execute_result"
    }
   ],
   "source": [
    "tl.inp"
   ]
  },
  {
   "cell_type": "code",
   "execution_count": 7,
   "id": "1314cffb-3879-4c8b-91d7-187317457b86",
   "metadata": {},
   "outputs": [
    {
     "data": {
      "text/plain": [
       "tensor([32., 32., 32., 32., 32., 32., 32., 32., 32., 32., 32., 32., 32., 32.,\n",
       "        32., 32., 32., 32., 32., 32., 32., 32., 32., 32., 32., 32., 32., 32.,\n",
       "        32., 32., 32., 32.])"
      ]
     },
     "execution_count": 7,
     "metadata": {},
     "output_type": "execute_result"
    }
   ],
   "source": [
    "tl.out"
   ]
  },
  {
   "cell_type": "code",
   "execution_count": null,
   "id": "6b013f34-6b61-4a21-bbe9-4779b77c07ab",
   "metadata": {},
   "outputs": [],
   "source": []
  }
 ],
 "metadata": {
  "kernelspec": {
   "display_name": "Python 3 (ipykernel)",
   "language": "python",
   "name": "python3"
  },
  "language_info": {
   "codemirror_mode": {
    "name": "ipython",
    "version": 3
   },
   "file_extension": ".py",
   "mimetype": "text/x-python",
   "name": "python",
   "nbconvert_exporter": "python",
   "pygments_lexer": "ipython3",
   "version": "3.8.5"
  }
 },
 "nbformat": 4,
 "nbformat_minor": 5
}
