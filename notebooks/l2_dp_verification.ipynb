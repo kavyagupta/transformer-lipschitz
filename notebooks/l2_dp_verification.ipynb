{
 "cells": [
  {
   "cell_type": "code",
   "execution_count": 40,
   "id": "9eeabe65-1e92-4026-8531-b1c35d93e26b",
   "metadata": {},
   "outputs": [],
   "source": [
    "from liptrf.models.linear_toy import Net\n",
    "from liptrf.models.vit import ViT\n",
    "\n",
    "import torch.nn as nn \n",
    "import torch "
   ]
  },
  {
   "cell_type": "code",
   "execution_count": 55,
   "id": "1f52e86b-e156-475a-9260-cdbe1a58f117",
   "metadata": {},
   "outputs": [],
   "source": [
    "l2_model = ViT(image_size=28, patch_size=7, num_classes=10, channels=1,\n",
    "            dim=128, depth=1, heads=8, mlp_ratio=4, attention_type='L2', lmbda=1).cuda()\n",
    "dp_model = ViT(image_size=28, patch_size=7, num_classes=10, channels=1,\n",
    "            dim=128, depth=1, heads=8, mlp_ratio=4, attention_type='DP', lmbda=1).cuda()"
   ]
  },
  {
   "cell_type": "code",
   "execution_count": 56,
   "id": "575177f1-fa50-44d3-b0f8-327774a5c04a",
   "metadata": {},
   "outputs": [],
   "source": [
    "l2_weight = torch.load('../weights/vit_mnist_layers-1_att-L2.pt')\n",
    "dp_weight = torch.load('../weights/vit_mnist_layers-1_att-DP.pt')"
   ]
  },
  {
   "cell_type": "code",
   "execution_count": 57,
   "id": "4e57cbda-9a1e-422c-8c9a-1e719abc22d3",
   "metadata": {},
   "outputs": [
    {
     "data": {
      "text/plain": [
       "ViT(\n",
       "  (rearrange_patch): Rearrange('b c (h p1) (w p2) -> b (h w) (p1 p2 c)', p1=7, p2=7)\n",
       "  (to_patch_embedding): LinearX()\n",
       "  (dropout): Dropout(p=0.0, inplace=False)\n",
       "  (transformer): Transformer(\n",
       "    (layers): ModuleList(\n",
       "      (0): ModuleList(\n",
       "        (0): PreNorm(\n",
       "          (norm): LayerNorm((128,), eps=1e-05, elementwise_affine=True)\n",
       "          (fn): Attention(\n",
       "            (attend): Softmax(dim=-1)\n",
       "            (to_qkv): LinearX()\n",
       "            (to_out): LinearX()\n",
       "            (dropout): Dropout(p=0.0, inplace=False)\n",
       "          )\n",
       "        )\n",
       "        (1): PreNorm(\n",
       "          (norm): LayerNorm((128,), eps=1e-05, elementwise_affine=True)\n",
       "          (fn): FeedForward(\n",
       "            (fc1): LinearX()\n",
       "            (gelu): GELU()\n",
       "            (dropout): Dropout(p=0.0, inplace=False)\n",
       "            (fc2): LinearX()\n",
       "          )\n",
       "        )\n",
       "      )\n",
       "    )\n",
       "  )\n",
       "  (to_latent): Identity()\n",
       "  (mlp_ln): LayerNorm((128,), eps=1e-05, elementwise_affine=True)\n",
       "  (mlp_head): LinearX()\n",
       ")"
      ]
     },
     "execution_count": 57,
     "metadata": {},
     "output_type": "execute_result"
    }
   ],
   "source": [
    "dp_model.load_state_dict(dp_weight)\n",
    "dp_model.eval()"
   ]
  },
  {
   "cell_type": "code",
   "execution_count": 58,
   "id": "c28c4245-f14d-4b02-bc0a-f3bfa4c6426f",
   "metadata": {},
   "outputs": [],
   "source": [
    "attention_io = {}\n",
    "def get_activation(name):\n",
    "    def hook(model, input, output):\n",
    "        attention_io[name] = {\"in\": input[0].detach(),\n",
    "                              \"out\": output.detach()}\n",
    "    return hook "
   ]
  },
  {
   "cell_type": "code",
   "execution_count": 59,
   "id": "1138dd15-da5e-4bba-902c-161ae8219fa1",
   "metadata": {},
   "outputs": [
    {
     "data": {
      "text/plain": [
       "<torch.utils.hooks.RemovableHandle at 0x7f0e1907be50>"
      ]
     },
     "execution_count": 59,
     "metadata": {},
     "output_type": "execute_result"
    }
   ],
   "source": [
    "dp_model.transformer.layers[0][0].fn.register_forward_hook(get_activation('a1'))"
   ]
  },
  {
   "cell_type": "code",
   "execution_count": 60,
   "id": "8313fb0e-5705-43e0-890f-5e404dfeb471",
   "metadata": {},
   "outputs": [],
   "source": [
    "x = torch.randn(1, 1, 28, 28).cuda()\n",
    "y = dp_model(x)"
   ]
  },
  {
   "cell_type": "code",
   "execution_count": 62,
   "id": "bff42ff6-7a8f-458c-9aab-018ed5acd962",
   "metadata": {},
   "outputs": [
    {
     "data": {
      "text/plain": [
       "torch.Size([1, 17, 128])"
      ]
     },
     "execution_count": 62,
     "metadata": {},
     "output_type": "execute_result"
    }
   ],
   "source": [
    "attention_io['a1']['in'].shape"
   ]
  },
  {
   "cell_type": "code",
   "execution_count": null,
   "id": "2b5d2a11-dc74-42f1-9f30-92bf45fb3f5a",
   "metadata": {},
   "outputs": [],
   "source": []
  }
 ],
 "metadata": {
  "kernelspec": {
   "display_name": "Python 3 (ipykernel)",
   "language": "python",
   "name": "python3"
  },
  "language_info": {
   "codemirror_mode": {
    "name": "ipython",
    "version": 3
   },
   "file_extension": ".py",
   "mimetype": "text/x-python",
   "name": "python",
   "nbconvert_exporter": "python",
   "pygments_lexer": "ipython3",
   "version": "3.8.5"
  }
 },
 "nbformat": 4,
 "nbformat_minor": 5
}
