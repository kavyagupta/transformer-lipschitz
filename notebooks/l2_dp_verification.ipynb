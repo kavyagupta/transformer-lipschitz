{
 "cells": [
  {
   "cell_type": "code",
   "execution_count": 1,
   "id": "9eeabe65-1e92-4026-8531-b1c35d93e26b",
   "metadata": {},
   "outputs": [
    {
     "name": "stderr",
     "output_type": "stream",
     "text": [
      "/home/versag/miniconda3/envs/liptrf/lib/python3.9/site-packages/tqdm/auto.py:22: TqdmWarning: IProgress not found. Please update jupyter and ipywidgets. See https://ipywidgets.readthedocs.io/en/stable/user_install.html\n",
      "  from .autonotebook import tqdm as notebook_tqdm\n"
     ]
    }
   ],
   "source": [
    "from liptrf.models.linear_toy import Net\n",
    "from liptrf.models.vit import ViT\n",
    "\n",
    "import torch.nn as nn \n",
    "import torch \n",
    "import timm\n",
    "\n",
    "from liptrf.models.vit import L2Attention\n",
    "from liptrf.models.layers import LinearX\n",
    "from liptrf.models.timm_vit import VisionTransformer as ViT"
   ]
  },
  {
   "cell_type": "code",
   "execution_count": 2,
   "id": "2b5d2a11-dc74-42f1-9f30-92bf45fb3f5a",
   "metadata": {},
   "outputs": [],
   "source": [
    "timm_model = timm.create_model('vit_tiny_patch16_224', pretrained=True)\n",
    "model = ViT(patch_size=16, embed_dim=192, depth=12, num_heads=3)"
   ]
  },
  {
   "cell_type": "code",
   "execution_count": 8,
   "id": "6e259c6b-c870-45a4-9b53-b5cf89dd7c2d",
   "metadata": {},
   "outputs": [
    {
     "data": {
      "text/plain": [
       "_IncompatibleKeys(missing_keys=['blocks.0.attn.to_q.weight', 'blocks.0.attn.to_q.rand_x', 'blocks.0.attn.to_v.weight', 'blocks.0.attn.to_v.rand_x', 'blocks.0.attn.to_out.weight', 'blocks.0.attn.to_out.rand_x', 'blocks.0.mlp.fc1.rand_x', 'blocks.0.mlp.fc2.rand_x', 'blocks.1.attn.to_q.weight', 'blocks.1.attn.to_q.rand_x', 'blocks.1.attn.to_v.weight', 'blocks.1.attn.to_v.rand_x', 'blocks.1.attn.to_out.weight', 'blocks.1.attn.to_out.rand_x', 'blocks.1.mlp.fc1.rand_x', 'blocks.1.mlp.fc2.rand_x', 'blocks.2.attn.to_q.weight', 'blocks.2.attn.to_q.rand_x', 'blocks.2.attn.to_v.weight', 'blocks.2.attn.to_v.rand_x', 'blocks.2.attn.to_out.weight', 'blocks.2.attn.to_out.rand_x', 'blocks.2.mlp.fc1.rand_x', 'blocks.2.mlp.fc2.rand_x', 'blocks.3.attn.to_q.weight', 'blocks.3.attn.to_q.rand_x', 'blocks.3.attn.to_v.weight', 'blocks.3.attn.to_v.rand_x', 'blocks.3.attn.to_out.weight', 'blocks.3.attn.to_out.rand_x', 'blocks.3.mlp.fc1.rand_x', 'blocks.3.mlp.fc2.rand_x', 'blocks.4.attn.to_q.weight', 'blocks.4.attn.to_q.rand_x', 'blocks.4.attn.to_v.weight', 'blocks.4.attn.to_v.rand_x', 'blocks.4.attn.to_out.weight', 'blocks.4.attn.to_out.rand_x', 'blocks.4.mlp.fc1.rand_x', 'blocks.4.mlp.fc2.rand_x', 'blocks.5.attn.to_q.weight', 'blocks.5.attn.to_q.rand_x', 'blocks.5.attn.to_v.weight', 'blocks.5.attn.to_v.rand_x', 'blocks.5.attn.to_out.weight', 'blocks.5.attn.to_out.rand_x', 'blocks.5.mlp.fc1.rand_x', 'blocks.5.mlp.fc2.rand_x', 'blocks.6.attn.to_q.weight', 'blocks.6.attn.to_q.rand_x', 'blocks.6.attn.to_v.weight', 'blocks.6.attn.to_v.rand_x', 'blocks.6.attn.to_out.weight', 'blocks.6.attn.to_out.rand_x', 'blocks.6.mlp.fc1.rand_x', 'blocks.6.mlp.fc2.rand_x', 'blocks.7.attn.to_q.weight', 'blocks.7.attn.to_q.rand_x', 'blocks.7.attn.to_v.weight', 'blocks.7.attn.to_v.rand_x', 'blocks.7.attn.to_out.weight', 'blocks.7.attn.to_out.rand_x', 'blocks.7.mlp.fc1.rand_x', 'blocks.7.mlp.fc2.rand_x', 'blocks.8.attn.to_q.weight', 'blocks.8.attn.to_q.rand_x', 'blocks.8.attn.to_v.weight', 'blocks.8.attn.to_v.rand_x', 'blocks.8.attn.to_out.weight', 'blocks.8.attn.to_out.rand_x', 'blocks.8.mlp.fc1.rand_x', 'blocks.8.mlp.fc2.rand_x', 'blocks.9.attn.to_q.weight', 'blocks.9.attn.to_q.rand_x', 'blocks.9.attn.to_v.weight', 'blocks.9.attn.to_v.rand_x', 'blocks.9.attn.to_out.weight', 'blocks.9.attn.to_out.rand_x', 'blocks.9.mlp.fc1.rand_x', 'blocks.9.mlp.fc2.rand_x', 'blocks.10.attn.to_q.weight', 'blocks.10.attn.to_q.rand_x', 'blocks.10.attn.to_v.weight', 'blocks.10.attn.to_v.rand_x', 'blocks.10.attn.to_out.weight', 'blocks.10.attn.to_out.rand_x', 'blocks.10.mlp.fc1.rand_x', 'blocks.10.mlp.fc2.rand_x', 'blocks.11.attn.to_q.weight', 'blocks.11.attn.to_q.rand_x', 'blocks.11.attn.to_v.weight', 'blocks.11.attn.to_v.rand_x', 'blocks.11.attn.to_out.weight', 'blocks.11.attn.to_out.rand_x', 'blocks.11.mlp.fc1.rand_x', 'blocks.11.mlp.fc2.rand_x', 'head.rand_x'], unexpected_keys=['blocks.0.attn.qkv.weight', 'blocks.0.attn.qkv.bias', 'blocks.0.attn.proj.weight', 'blocks.0.attn.proj.bias', 'blocks.0.mlp.fc1.bias', 'blocks.0.mlp.fc2.bias', 'blocks.1.attn.qkv.weight', 'blocks.1.attn.qkv.bias', 'blocks.1.attn.proj.weight', 'blocks.1.attn.proj.bias', 'blocks.1.mlp.fc1.bias', 'blocks.1.mlp.fc2.bias', 'blocks.2.attn.qkv.weight', 'blocks.2.attn.qkv.bias', 'blocks.2.attn.proj.weight', 'blocks.2.attn.proj.bias', 'blocks.2.mlp.fc1.bias', 'blocks.2.mlp.fc2.bias', 'blocks.3.attn.qkv.weight', 'blocks.3.attn.qkv.bias', 'blocks.3.attn.proj.weight', 'blocks.3.attn.proj.bias', 'blocks.3.mlp.fc1.bias', 'blocks.3.mlp.fc2.bias', 'blocks.4.attn.qkv.weight', 'blocks.4.attn.qkv.bias', 'blocks.4.attn.proj.weight', 'blocks.4.attn.proj.bias', 'blocks.4.mlp.fc1.bias', 'blocks.4.mlp.fc2.bias', 'blocks.5.attn.qkv.weight', 'blocks.5.attn.qkv.bias', 'blocks.5.attn.proj.weight', 'blocks.5.attn.proj.bias', 'blocks.5.mlp.fc1.bias', 'blocks.5.mlp.fc2.bias', 'blocks.6.attn.qkv.weight', 'blocks.6.attn.qkv.bias', 'blocks.6.attn.proj.weight', 'blocks.6.attn.proj.bias', 'blocks.6.mlp.fc1.bias', 'blocks.6.mlp.fc2.bias', 'blocks.7.attn.qkv.weight', 'blocks.7.attn.qkv.bias', 'blocks.7.attn.proj.weight', 'blocks.7.attn.proj.bias', 'blocks.7.mlp.fc1.bias', 'blocks.7.mlp.fc2.bias', 'blocks.8.attn.qkv.weight', 'blocks.8.attn.qkv.bias', 'blocks.8.attn.proj.weight', 'blocks.8.attn.proj.bias', 'blocks.8.mlp.fc1.bias', 'blocks.8.mlp.fc2.bias', 'blocks.9.attn.qkv.weight', 'blocks.9.attn.qkv.bias', 'blocks.9.attn.proj.weight', 'blocks.9.attn.proj.bias', 'blocks.9.mlp.fc1.bias', 'blocks.9.mlp.fc2.bias', 'blocks.10.attn.qkv.weight', 'blocks.10.attn.qkv.bias', 'blocks.10.attn.proj.weight', 'blocks.10.attn.proj.bias', 'blocks.10.mlp.fc1.bias', 'blocks.10.mlp.fc2.bias', 'blocks.11.attn.qkv.weight', 'blocks.11.attn.qkv.bias', 'blocks.11.attn.proj.weight', 'blocks.11.attn.proj.bias', 'blocks.11.mlp.fc1.bias', 'blocks.11.mlp.fc2.bias', 'head.bias'])"
      ]
     },
     "execution_count": 8,
     "metadata": {},
     "output_type": "execute_result"
    }
   ],
   "source": [
    "model.load_state_dict(timm_model.state_dict(), strict=False)"
   ]
  },
  {
   "cell_type": "code",
   "execution_count": 9,
   "id": "9285f619-2924-4acf-a78f-9bdc845bd969",
   "metadata": {},
   "outputs": [
    {
     "data": {
      "text/plain": [
       "Attention(\n",
       "  (qkv): Linear(in_features=192, out_features=576, bias=True)\n",
       "  (attn_drop): Dropout(p=0.0, inplace=False)\n",
       "  (proj): Linear(in_features=192, out_features=192, bias=True)\n",
       "  (proj_drop): Dropout(p=0.0, inplace=False)\n",
       ")"
      ]
     },
     "execution_count": 9,
     "metadata": {},
     "output_type": "execute_result"
    }
   ],
   "source": [
    "timm_model.blocks[0].attn"
   ]
  },
  {
   "cell_type": "code",
   "execution_count": null,
   "id": "ce674799-f28a-472c-b76c-ef8f16b31bf7",
   "metadata": {},
   "outputs": [],
   "source": []
  }
 ],
 "metadata": {
  "kernelspec": {
   "display_name": "Python 3 (ipykernel)",
   "language": "python",
   "name": "python3"
  },
  "language_info": {
   "codemirror_mode": {
    "name": "ipython",
    "version": 3
   },
   "file_extension": ".py",
   "mimetype": "text/x-python",
   "name": "python",
   "nbconvert_exporter": "python",
   "pygments_lexer": "ipython3",
   "version": "3.9.12"
  }
 },
 "nbformat": 4,
 "nbformat_minor": 5
}
