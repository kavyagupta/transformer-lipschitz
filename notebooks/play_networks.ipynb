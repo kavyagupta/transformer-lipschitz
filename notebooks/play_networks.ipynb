{
 "cells": [
  {
   "cell_type": "code",
   "execution_count": 7,
   "id": "21f6bb9e-24c9-4971-bf1e-61f184223dc0",
   "metadata": {},
   "outputs": [],
   "source": [
    "from liptrf.models import ViT"
   ]
  },
  {
   "cell_type": "code",
   "execution_count": null,
   "id": "276849b0-d0c0-4c45-af28-8a3a2c16797b",
   "metadata": {},
   "outputs": [],
   "source": []
  }
 ],
 "metadata": {
  "kernelspec": {
   "display_name": "Python 3 (ipykernel)",
   "language": "python",
   "name": "python3"
  },
  "language_info": {
   "codemirror_mode": {
    "name": "ipython",
    "version": 3
   },
   "file_extension": ".py",
   "mimetype": "text/x-python",
   "name": "python",
   "nbconvert_exporter": "python",
   "pygments_lexer": "ipython3",
   "version": "3.8.5"
  }
 },
 "nbformat": 4,
 "nbformat_minor": 5
}
