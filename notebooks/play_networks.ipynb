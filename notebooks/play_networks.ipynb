{
 "cells": [
  {
   "cell_type": "code",
   "execution_count": 91,
   "id": "d3a09a6b-0f0a-4023-a362-b72d9e25a6f4",
   "metadata": {},
   "outputs": [],
   "source": [
    "import torch\n",
    "\n",
    "from liptrf.models.moderate import CIFAR10_4C3F_ReLUx"
   ]
  },
  {
   "cell_type": "code",
   "execution_count": 96,
   "id": "16bc26f0-fd4a-46d5-ab90-fd7127c3dc50",
   "metadata": {},
   "outputs": [],
   "source": [
    "weights = torch.load('../weights/CIFAR10_4c3f_relux_seed-2_pass1.pt')\n",
    "post_weights = torch.load('../weights/CIFAR10_4c3f_relux_seed-2_pass1_lc_alpha-0.01_eta-0.1_lc_gamma-0.98_lr-1.2_checkpoint.pt')#['weights']"
   ]
  },
  {
   "cell_type": "code",
   "execution_count": 97,
   "id": "a8c1e087-dbf6-4d33-9bc1-6b71ce4b7b09",
   "metadata": {},
   "outputs": [
    {
     "name": "stdout",
     "output_type": "stream",
     "text": [
      "conv1.weight torch.Size([87, 1]) torch.Size([18, 1]) 4.440517902374268 2.535034656524658\n",
      "conv2.weight torch.Size([1639, 1]) torch.Size([291, 1]) 7.439726829528809 4.345742225646973\n",
      "conv3.weight torch.Size([1844, 1]) torch.Size([363, 1]) 8.585911750793457 5.387950420379639\n",
      "conv4.weight torch.Size([6554, 1]) torch.Size([1224, 1]) 13.510056495666504 10.100250244140625\n",
      "fc1.weight torch.Size([209715, 1]) torch.Size([26134, 1]) 74.03863525390625 41.417545318603516\n",
      "fc2.weight torch.Size([26215, 1]) torch.Size([3170, 1]) 27.979583740234375 12.1904935836792\n",
      "fc3.weight torch.Size([512, 1]) torch.Size([92, 1]) 9.992071151733398 5.977871417999268\n"
     ]
    }
   ],
   "source": [
    "for k in weights.keys():\n",
    "    if 'weight' in k:\n",
    "        print (k, torch.nonzero(weights[k].flatten()).shape, torch.nonzero(post_weights[k].flatten()).shape, torch.linalg.norm(weights[k]).item(), torch.linalg.norm(post_weights[k]).item())"
   ]
  },
  {
   "cell_type": "code",
   "execution_count": null,
   "id": "823dbf1f-af01-4210-a252-8b1e5ef2e4d0",
   "metadata": {},
   "outputs": [],
   "source": []
  }
 ],
 "metadata": {
  "kernelspec": {
   "display_name": "Python 3 (ipykernel)",
   "language": "python",
   "name": "python3"
  },
  "language_info": {
   "codemirror_mode": {
    "name": "ipython",
    "version": 3
   },
   "file_extension": ".py",
   "mimetype": "text/x-python",
   "name": "python",
   "nbconvert_exporter": "python",
   "pygments_lexer": "ipython3",
   "version": "3.8.13"
  }
 },
 "nbformat": 4,
 "nbformat_minor": 5
}
