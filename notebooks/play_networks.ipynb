{
 "cells": [
  {
   "cell_type": "code",
   "execution_count": 2,
   "id": "21f6bb9e-24c9-4971-bf1e-61f184223dc0",
   "metadata": {},
   "outputs": [
    {
     "ename": "ModuleNotFoundError",
     "evalue": "No module named 'liftrf'",
     "output_type": "error",
     "traceback": [
      "\u001b[0;31m---------------------------------------------------------------------------\u001b[0m",
      "\u001b[0;31mModuleNotFoundError\u001b[0m                       Traceback (most recent call last)",
      "Input \u001b[0;32mIn [2]\u001b[0m, in \u001b[0;36m<cell line: 1>\u001b[0;34m()\u001b[0m\n\u001b[0;32m----> 1\u001b[0m \u001b[38;5;28;01mfrom\u001b[39;00m \u001b[38;5;21;01mliftrf\u001b[39;00m \u001b[38;5;28;01mimport\u001b[39;00m vit\n",
      "\u001b[0;31mModuleNotFoundError\u001b[0m: No module named 'liftrf'"
     ]
    }
   ],
   "source": [
    "from liftrf import vit"
   ]
  },
  {
   "cell_type": "code",
   "execution_count": null,
   "id": "276849b0-d0c0-4c45-af28-8a3a2c16797b",
   "metadata": {},
   "outputs": [],
   "source": []
  }
 ],
 "metadata": {
  "kernelspec": {
   "display_name": "Python 3 (ipykernel)",
   "language": "python",
   "name": "python3"
  },
  "language_info": {
   "codemirror_mode": {
    "name": "ipython",
    "version": 3
   },
   "file_extension": ".py",
   "mimetype": "text/x-python",
   "name": "python",
   "nbconvert_exporter": "python",
   "pygments_lexer": "ipython3",
   "version": "3.8.5"
  }
 },
 "nbformat": 4,
 "nbformat_minor": 5
}
