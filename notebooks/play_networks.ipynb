{
 "cells": [
  {
   "cell_type": "code",
   "execution_count": 1,
   "id": "21f6bb9e-24c9-4971-bf1e-61f184223dc0",
   "metadata": {},
   "outputs": [],
   "source": [
    "import torch \n",
    "import torch.nn as nn\n",
    "from timm import create_model"
   ]
  },
  {
   "cell_type": "code",
   "execution_count": 5,
   "id": "276849b0-d0c0-4c45-af28-8a3a2c16797b",
   "metadata": {},
   "outputs": [],
   "source": [
    "model = create_model(\"vit_tiny_patch16_224\", pretrained=True)\n",
    "model.eval()\n",
    "\n",
    "img = torch.randn(1, 3, 224, 224)\n",
    "\n",
    "preds = v(img) # (1, 1000)"
   ]
  },
  {
   "cell_type": "code",
   "execution_count": null,
   "id": "d5fa24fe-698a-45d5-b74f-eb821512831f",
   "metadata": {},
   "outputs": [],
   "source": [
    "\n"
   ]
  },
  {
   "cell_type": "code",
   "execution_count": 3,
   "id": "b37d7d2f-f303-473e-8ff7-bf8e1b0c0050",
   "metadata": {},
   "outputs": [],
   "source": [
    "class L2Attention(nn.Module):\n",
    "    def __init__(\n",
    "         self, \n",
    "         dim: int, \n",
    "         num_heads: int = 8, \n",
    "         qkv_bias: bool = False, \n",
    "         attn_drop: float = 0., \n",
    "         proj_drop: float = 0.\n",
    "    ) -> None:\n",
    "        super().__init__()\n",
    "        assert dim % num_heads == 0, 'dim should be divisible by num_heads'\n",
    "        self.num_heads = num_heads\n",
    "        head_dim = dim // num_heads\n",
    "        self.scale = head_dim ** -0.5\n",
    "\n",
    "        self.qkv = nn.Linear(dim, dim * 3, bias=qkv_bias)\n",
    "        self.attn_drop = nn.Dropout(attn_drop)\n",
    "        self.proj = nn.Linear(dim, dim)\n",
    "        self.proj_drop = nn.Dropout(proj_drop)\n",
    "        \n",
    "    def forward(\n",
    "        self,\n",
    "        x: torch.tensor\n",
    "    ) -> torch.tensor:\n",
    "        B, N, C = x.shape\n",
    "        qkv = self.qkv(x).reshape(B, N, 3, self.num_heads, C // self.num_heads).permute(2, 0, 3, 1, 4)\n",
    "        q, k, v = qkv.unbind(0)   # make torchscript happy (cannot use tensor as tuple)\n",
    "\n",
    "        dots = q @ k.transpose(-2, -1)\n",
    "        q_l2 = torch.pow(q.norm(dim=-1, p=2), 2).unsqueeze(-1)\n",
    "        k_l2 = torch.pow(k.norm(dim=-1, p=2), 2).unsqueeze(-1)\n",
    "        q_l2 = torch.matmul(q_l2, torch.ones(q_l2.shape).transpose(-1, -2))\n",
    "        k_l2 = torch.matmul(torch.ones(k_l2.shape), k_l2.transpose(-1, -2))\n",
    "        \n",
    "        attn = (-1 * (q_l2 - 2 * dots + k_l2) * self.scale).softmax(dim=-1)\n",
    "        attn = self.attn_drop(attn)\n",
    "\n",
    "        x = (attn @ v).transpose(1, 2).reshape(B, N, C)\n",
    "        x = self.proj(x)\n",
    "        x = self.proj_drop(x)\n",
    "        return x"
   ]
  },
  {
   "cell_type": "code",
   "execution_count": 4,
   "id": "2297977d-ba8e-4cbf-8dfd-b79793c6644d",
   "metadata": {},
   "outputs": [
    {
     "name": "stdout",
     "output_type": "stream",
     "text": [
      "torch.Size([1, 2, 16])\n"
     ]
    }
   ],
   "source": [
    "att = L2Attention(dim=16)\n",
    "inp = torch.randn(1, 2, 16)\n",
    "print (att(inp).shape)"
   ]
  },
  {
   "cell_type": "code",
   "execution_count": null,
   "id": "777794b3-1d07-4ad4-91f3-178077b6cbd4",
   "metadata": {},
   "outputs": [],
   "source": []
  }
 ],
 "metadata": {
  "kernelspec": {
   "display_name": "Python 3 (ipykernel)",
   "language": "python",
   "name": "python3"
  },
  "language_info": {
   "codemirror_mode": {
    "name": "ipython",
    "version": 3
   },
   "file_extension": ".py",
   "mimetype": "text/x-python",
   "name": "python",
   "nbconvert_exporter": "python",
   "pygments_lexer": "ipython3",
   "version": "3.8.5"
  }
 },
 "nbformat": 4,
 "nbformat_minor": 5
}
