{
 "cells": [
  {
   "cell_type": "code",
   "execution_count": 9,
   "id": "21f6bb9e-24c9-4971-bf1e-61f184223dc0",
   "metadata": {},
   "outputs": [],
   "source": [
    "import torch \n",
    "from liptrf.models import ViT"
   ]
  },
  {
   "cell_type": "code",
   "execution_count": 10,
   "id": "276849b0-d0c0-4c45-af28-8a3a2c16797b",
   "metadata": {},
   "outputs": [],
   "source": [
    "v = ViT(\n",
    "    image_size = 256,\n",
    "    patch_size = 32,\n",
    "    num_classes = 1000,\n",
    "    dim = 1024,\n",
    "    depth = 6,\n",
    "    heads = 16,\n",
    "    mlp_dim = 2048,\n",
    "    dropout = 0.1,\n",
    "    emb_dropout = 0.1\n",
    ")\n",
    "\n",
    "img = torch.randn(1, 3, 256, 256)\n",
    "\n",
    "preds = v(img) # (1, 1000)"
   ]
  },
  {
   "cell_type": "code",
   "execution_count": 12,
   "id": "b137dbc2-653a-4775-a581-179a8a0dbd70",
   "metadata": {},
   "outputs": [
    {
     "data": {
      "text/plain": [
       "torch.Size([1, 1000])"
      ]
     },
     "execution_count": 12,
     "metadata": {},
     "output_type": "execute_result"
    }
   ],
   "source": [
    "preds.shape"
   ]
  },
  {
   "cell_type": "code",
   "execution_count": 6,
   "id": "d5fa24fe-698a-45d5-b74f-eb821512831f",
   "metadata": {},
   "outputs": [],
   "source": [
    "import torch \n",
    "import torch.nn as nn\n",
    "\n",
    "from einops import rearrange, repeat\n",
    "from einops.layers.torch import Rearrange"
   ]
  },
  {
   "cell_type": "code",
   "execution_count": 7,
   "id": "196645c7-c011-41ba-b0d6-e7ff1bcb2595",
   "metadata": {},
   "outputs": [],
   "source": [
    "class Attention(nn.Module):\n",
    "    def __init__(self, dim, heads = 8, dim_head = 64, dropout = 0.):\n",
    "        super().__init__()\n",
    "        inner_dim = dim_head *  heads\n",
    "        project_out = not (heads == 1 and dim_head == dim)\n",
    "\n",
    "        self.heads = heads\n",
    "        self.scale = dim_head ** -0.5\n",
    "\n",
    "        self.attend = nn.Softmax(dim = -1)\n",
    "        self.dropout = nn.Dropout(dropout)\n",
    "\n",
    "        self.to_qkv = nn.Linear(dim, inner_dim * 3, bias = False)\n",
    "\n",
    "        self.to_out = nn.Sequential(\n",
    "            nn.Linear(inner_dim, dim),\n",
    "            nn.Dropout(dropout)\n",
    "        ) if project_out else nn.Identity()\n",
    "\n",
    "    def forward(self, x):\n",
    "        qkv = self.to_qkv(x).chunk(3, dim = -1)\n",
    "        q, k, v = map(lambda t: rearrange(t, 'b n (h d) -> b h n d', h = self.heads), qkv)\n",
    "\n",
    "        dots = torch.matmul(q, k.transpose(-1, -2)) * self.scale\n",
    "\n",
    "        attn = self.attend(dots)\n",
    "        attn = self.dropout(attn)\n",
    "\n",
    "        out = torch.matmul(attn, v)\n",
    "        out = rearrange(out, 'b h n d -> b n (h d)')\n",
    "        return self.to_out(out)"
   ]
  },
  {
   "cell_type": "code",
   "execution_count": 181,
   "id": "b37d7d2f-f303-473e-8ff7-bf8e1b0c0050",
   "metadata": {},
   "outputs": [],
   "source": [
    "class L2Attention(nn.Module):\n",
    "    def __init__(\n",
    "        self, \n",
    "        dim: int, \n",
    "        heads: int = 8,\n",
    "        dim_head: int = 64,\n",
    "        dropout: float = 0.\n",
    "    ) -> None:\n",
    "        super().__init__()\n",
    "        inner_dim = dim * heads \n",
    "        project_out = not (heads == 1 and dim_head == dim)\n",
    "        \n",
    "        self.heads = heads \n",
    "        self.scale = dim_head ** -0.5\n",
    "        \n",
    "        self.attend = nn.Softmax(dim = -1)\n",
    "        self.dropout = nn.Dropout(dropout)\n",
    "        \n",
    "        self.to_qkv = nn.Linear(dim, inner_dim * 3, bias = False)\n",
    "        \n",
    "        self.to_out = nn.Sequential(\n",
    "            nn.Linear(inner_dim, dim),\n",
    "            nn.Dropout(dropout)\n",
    "        ) if project_out else nn.Identity()\n",
    "        \n",
    "    def forward(\n",
    "        self,\n",
    "        x: torch.tensor\n",
    "    ) -> torch.tensor:\n",
    "        qkv = self.to_qkv(x).chunk(3, dim = -1)\n",
    "        q, k, v = map(lambda t: rearrange(t, 'b n (h d) -> b h n d', h = self.heads), qkv)\n",
    "\n",
    "        dots = torch.matmul(q, k.transpose(-1, -2))\n",
    "        q_l2 = torch.pow(q.norm(dim=-1, p=2), 2).unsqueeze(-1)\n",
    "        k_l2 = torch.pow(k.norm(dim=-1, p=2), 2).unsqueeze(-1)\n",
    "        q_l2 = torch.matmul(q_l2, torch.ones(q_l2.shape).transpose(-1, -2))\n",
    "        k_l2 = torch.matmul(torch.ones(k_l2.shape), k_l2.transpose(-1, -2))\n",
    "        \n",
    "        attn = self.attend(-1 * (q_l2 - 2 * dots + k_l2) * self.scale)\n",
    "        attn = self.dropout(attn)\n",
    "\n",
    "        out = torch.matmul(attn, v)\n",
    "        out = rearrange(out, 'b h n d -> b n (h d)')\n",
    "        return self.to_out(out)"
   ]
  },
  {
   "cell_type": "code",
   "execution_count": 182,
   "id": "2297977d-ba8e-4cbf-8dfd-b79793c6644d",
   "metadata": {},
   "outputs": [
    {
     "name": "stdout",
     "output_type": "stream",
     "text": [
      "torch.Size([1, 2, 4])\n"
     ]
    }
   ],
   "source": [
    "att = L2Attention(4)\n",
    "inp = torch.randn(1, 2, 4)\n",
    "print (att(inp).shape)"
   ]
  },
  {
   "cell_type": "code",
   "execution_count": null,
   "id": "777794b3-1d07-4ad4-91f3-178077b6cbd4",
   "metadata": {},
   "outputs": [],
   "source": []
  }
 ],
 "metadata": {
  "kernelspec": {
   "display_name": "Python 3 (ipykernel)",
   "language": "python",
   "name": "python3"
  },
  "language_info": {
   "codemirror_mode": {
    "name": "ipython",
    "version": 3
   },
   "file_extension": ".py",
   "mimetype": "text/x-python",
   "name": "python",
   "nbconvert_exporter": "python",
   "pygments_lexer": "ipython3",
   "version": "3.8.5"
  }
 },
 "nbformat": 4,
 "nbformat_minor": 5
}
