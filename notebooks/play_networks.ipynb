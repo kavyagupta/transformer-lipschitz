{
 "cells": [
  {
   "cell_type": "code",
   "execution_count": 4,
   "id": "21f6bb9e-24c9-4971-bf1e-61f184223dc0",
   "metadata": {},
   "outputs": [],
   "source": [
    "from ast import literal_eval \n",
    "\n",
    "from glob import glob \n",
    "\n",
    "from PIL import Image \n",
    "import numpy as np \n",
    "from scipy.linalg.interpolative import estimate_spectral_norm\n",
    "from scipy.special import lambertw \n",
    "\n",
    "import torch \n",
    "import torch.nn as nn\n",
    "\n",
    "from einops import rearrange, repeat\n",
    "from einops.layers.torch import Rearrange\n",
    "\n",
    "from liptrf.models.vit import ViT, L2Attention, FeedForward"
   ]
  },
  {
   "cell_type": "code",
   "execution_count": 2,
   "id": "e06292e2-d359-4078-80e4-2feaf1bed44c",
   "metadata": {},
   "outputs": [],
   "source": [
    "v = ViT(\n",
    "    image_size = 28,\n",
    "    patch_size = 7,\n",
    "    num_classes = 10,\n",
    "    channels = 1,\n",
    "    dim = 128,\n",
    "    depth = 6,\n",
    "    heads = 8,\n",
    "    dropout = 0.1,\n",
    "    emb_dropout = 0.1, \n",
    "    attention_type='L2'\n",
    ").cuda()\n",
    "\n",
    "img = torch.randn(1, 1, 28, 28).cuda()\n",
    "\n",
    "preds = v(img) # (1, 1000)"
   ]
  },
  {
   "cell_type": "code",
   "execution_count": 3,
   "id": "72ce89d3-44dd-4374-a4ee-3d355239c97e",
   "metadata": {},
   "outputs": [
    {
     "data": {
      "text/plain": [
       "torch.Size([256, 128])"
      ]
     },
     "execution_count": 3,
     "metadata": {},
     "output_type": "execute_result"
    }
   ],
   "source": [
    "v.transformer.layers[0][0].fn.to_qv.weight.shape"
   ]
  },
  {
   "cell_type": "code",
   "execution_count": 47,
   "id": "56c41cf3-51e5-44c1-9eca-cb84c0d233d5",
   "metadata": {},
   "outputs": [
    {
     "name": "stdout",
     "output_type": "stream",
     "text": [
      "tensor(2.8536, device='cuda:0', grad_fn=<CopyBackwards>)\n",
      "tensor(2.8536, device='cuda:0', grad_fn=<CopyBackwards>)\n"
     ]
    }
   ],
   "source": [
    "print (torch.linalg.norm(v.transformer.layers[0][0].fn.to_qv.weight, ord=2))\n",
    "print (torch.linalg.norm(v.transformer.layers[0][0].fn.to_qv.weight.T, ord=2))"
   ]
  },
  {
   "cell_type": "code",
   "execution_count": 51,
   "id": "56382ff9-23ec-4dbe-8dcf-fa8e55c1e0b6",
   "metadata": {},
   "outputs": [
    {
     "data": {
      "text/plain": [
       "torch.Size([64, 512])"
      ]
     },
     "execution_count": 51,
     "metadata": {},
     "output_type": "execute_result"
    }
   ],
   "source": [
    "v.transformer.layers[0][0].fn.to_out[0].weight.shape"
   ]
  },
  {
   "cell_type": "code",
   "execution_count": null,
   "id": "055c8da8-f0de-4868-a31b-6dbf39ffb387",
   "metadata": {},
   "outputs": [],
   "source": []
  },
  {
   "cell_type": "code",
   "execution_count": null,
   "id": "ab2a3042-6d1a-4818-8c18-8810fa734bb4",
   "metadata": {},
   "outputs": [],
   "source": []
  },
  {
   "cell_type": "code",
   "execution_count": null,
   "id": "e6203c52-29dc-4d2e-abbf-7ee7f4ce8fbe",
   "metadata": {},
   "outputs": [],
   "source": []
  },
  {
   "cell_type": "code",
   "execution_count": null,
   "id": "3658072e-cea8-47e6-aa88-ebff1f97d89e",
   "metadata": {},
   "outputs": [],
   "source": []
  },
  {
   "cell_type": "code",
   "execution_count": null,
   "id": "bd9c1907-9086-43c6-8d98-0d41f55cd37b",
   "metadata": {},
   "outputs": [],
   "source": []
  },
  {
   "cell_type": "code",
   "execution_count": null,
   "id": "5b1fe842-7331-46d3-8f9f-482ece078c8c",
   "metadata": {},
   "outputs": [],
   "source": []
  },
  {
   "cell_type": "code",
   "execution_count": null,
   "id": "1a0bcc1e-1035-4364-9bb8-46152149e448",
   "metadata": {},
   "outputs": [],
   "source": []
  },
  {
   "cell_type": "code",
   "execution_count": null,
   "id": "e4db3b42-c25f-458f-9c6e-988998c645b6",
   "metadata": {},
   "outputs": [],
   "source": []
  },
  {
   "cell_type": "code",
   "execution_count": 36,
   "id": "28addf0e-6898-43f0-b364-767faf799563",
   "metadata": {},
   "outputs": [],
   "source": [
    "fin = open('../imagenet-sample-images/imagenet1000_clsidx_to_labels.txt', 'r')\n",
    "class_map = literal_eval(fin.read())\n",
    "fin.close()"
   ]
  },
  {
   "cell_type": "code",
   "execution_count": 4,
   "id": "4f219323-d7a4-45b4-9d6c-0b75323e3f2a",
   "metadata": {},
   "outputs": [],
   "source": [
    "image_names = glob('../imagenet-sample-images/*JPEG')"
   ]
  },
  {
   "cell_type": "code",
   "execution_count": 5,
   "id": "b37d7d2f-f303-473e-8ff7-bf8e1b0c0050",
   "metadata": {},
   "outputs": [],
   "source": [
    "class L2Attention(nn.Module):\n",
    "    def __init__(\n",
    "         self, \n",
    "         dim: int, \n",
    "         num_heads: int = 8, \n",
    "         qkv_bias: bool = False, \n",
    "         attn_drop: float = 0., \n",
    "         proj_drop: float = 0.\n",
    "    ) -> None:\n",
    "        super().__init__()\n",
    "        assert dim % num_heads == 0, 'dim should be divisible by num_heads'\n",
    "        self.num_heads = num_heads\n",
    "        head_dim = dim // num_heads\n",
    "        self.scale = head_dim ** -0.5\n",
    "\n",
    "        self.qkv = nn.Linear(dim, dim * 3, bias=qkv_bias)\n",
    "        self.attn_drop = nn.Dropout(attn_drop)\n",
    "        self.proj = nn.Linear(dim, dim)\n",
    "        self.proj_drop = nn.Dropout(proj_drop)\n",
    "        \n",
    "    def forward(\n",
    "        self,\n",
    "        x: torch.tensor\n",
    "    ) -> torch.tensor:\n",
    "        B, N, C = x.shape\n",
    "        qkv = self.qkv(x).reshape(B, N, 3, self.num_heads, C // self.num_heads).permute(2, 0, 3, 1, 4)\n",
    "        q, k, v = qkv.unbind(0)   # make torchscript happy (cannot use tensor as tuple)\n",
    "\n",
    "        dots = q @ k.transpose(-2, -1)\n",
    "        q_l2 = torch.pow(q.norm(dim=-1, p=2), 2).unsqueeze(-1)\n",
    "        k_l2 = torch.pow(k.norm(dim=-1, p=2), 2).unsqueeze(-1)\n",
    "        q_l2 = torch.matmul(q_l2, torch.ones(q_l2.shape).transpose(-1, -2))\n",
    "        k_l2 = torch.matmul(torch.ones(k_l2.shape), k_l2.transpose(-1, -2))\n",
    "        \n",
    "        attn = (-1 * (q_l2 - 2 * dots + k_l2) * self.scale).softmax(dim=-1)\n",
    "        attn = self.attn_drop(attn)\n",
    "\n",
    "        x = (attn @ v).transpose(1, 2).reshape(B, N, C)\n",
    "        x = self.proj(x)\n",
    "        x = self.proj_drop(x)\n",
    "        return x"
   ]
  },
  {
   "cell_type": "code",
   "execution_count": 43,
   "id": "dc1d1474-df0e-40f2-b876-7ee7ee6c31db",
   "metadata": {},
   "outputs": [],
   "source": [
    "class L2Attention(nn.Module):\n",
    "    def __init__(self, dim, heads = 8, dim_head = 64, dropout = 0.):\n",
    "        super().__init__()\n",
    "        inner_dim = dim_head *  heads\n",
    "        project_out = not (heads == 1 and dim_head == dim)\n",
    "\n",
    "        self.heads = heads\n",
    "        self.scale = dim_head ** -0.5\n",
    "\n",
    "        self.attend = nn.Softmax(dim = -1)\n",
    "        self.dropout = nn.Dropout(dropout)\n",
    "\n",
    "        self.to_qv = nn.Linear(dim, inner_dim * 2, bias = False)\n",
    "\n",
    "        self.to_out = nn.Sequential(\n",
    "            nn.Linear(inner_dim, dim),\n",
    "            nn.Dropout(dropout)\n",
    "        ) if project_out else nn.Identity()\n",
    "\n",
    "    def forward(self, x):\n",
    "        qv = self.to_qv(x).chunk(2, dim = -1)\n",
    "        q, v = map(lambda t: rearrange(t, 'b n (h d) -> b h n d', h = self.heads), qv)\n",
    "\n",
    "        dots = q @ q.transpose(-2, -1)\n",
    "        q_l2 = torch.pow(q.norm(dim=-1, p=2), 2).unsqueeze(-1)\n",
    "        k_l2 = torch.pow(q.norm(dim=-1, p=2), 2).unsqueeze(-1)\n",
    "        q_l2 = torch.matmul(q_l2, torch.ones(q_l2.shape).transpose(-1, -2))\n",
    "        k_l2 = torch.matmul(torch.ones(k_l2.shape), k_l2.transpose(-1, -2))\n",
    "        \n",
    "        attn = (-1 * (q_l2 - 2 * dots + k_l2) * self.scale).softmax(dim=-1)\n",
    "        attn = self.dropout(attn)\n",
    "        \n",
    "        out = torch.matmul(attn, v)\n",
    "        out = rearrange(out, 'b h n d -> b n (h d)')\n",
    "        return self.to_out(out)"
   ]
  },
  {
   "cell_type": "code",
   "execution_count": 46,
   "id": "2297977d-ba8e-4cbf-8dfd-b79793c6644d",
   "metadata": {},
   "outputs": [
    {
     "name": "stdout",
     "output_type": "stream",
     "text": [
      "torch.Size([1, 2, 16])\n",
      "torch.Size([1, 8, 2, 1]) torch.Size([1, 8, 2, 64])\n",
      "torch.Size([1, 2, 16])\n"
     ]
    }
   ],
   "source": [
    "att = L2Attention(dim=16)\n",
    "inp = torch.randn(1, 2, 16)\n",
    "print (att(inp).shape)"
   ]
  },
  {
   "cell_type": "code",
   "execution_count": null,
   "id": "4e821fd9-8e5b-41e7-8360-d8939eeccb2c",
   "metadata": {},
   "outputs": [
    {
     "name": "stdout",
     "output_type": "stream",
     "text": [
      "../imagenet-sample-images/n04208210_shovel.JPEG\n",
      "tensor(4.2448, grad_fn=<MeanBackward0>)\n",
      "shovel\n",
      "moving van\n"
     ]
    }
   ],
   "source": [
    "idx = 6\n",
    "print (image_names[idx])\n",
    "img = Image.open(image_names[idx])\n",
    "img = np.asarray(img.resize((224, 224))).transpose(2, 0, 1) / 255.\n",
    "img = torch.from_numpy(np.asarray([img])).float()\n",
    "probas = model(img)\n",
    "new_probas = l2_model(img)\n",
    "print (torch.mean((probas - new_probas)**2))\n",
    "print (class_map[torch.argmax(probas).item()])\n",
    "print (class_map[torch.argmax(new_probas).item()])"
   ]
  },
  {
   "cell_type": "code",
   "execution_count": null,
   "id": "136c9b2c-cc68-4fb4-b2d1-0e62878f325a",
   "metadata": {},
   "outputs": [],
   "source": []
  }
 ],
 "metadata": {
  "kernelspec": {
   "display_name": "Python 3 (ipykernel)",
   "language": "python",
   "name": "python3"
  },
  "language_info": {
   "codemirror_mode": {
    "name": "ipython",
    "version": 3
   },
   "file_extension": ".py",
   "mimetype": "text/x-python",
   "name": "python",
   "nbconvert_exporter": "python",
   "pygments_lexer": "ipython3",
   "version": "3.8.5"
  }
 },
 "nbformat": 4,
 "nbformat_minor": 5
}
