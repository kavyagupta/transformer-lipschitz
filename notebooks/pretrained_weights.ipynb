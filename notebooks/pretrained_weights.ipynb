{
 "cells": [
  {
   "cell_type": "code",
   "execution_count": 21,
   "id": "9c9e0b6c-7a6b-42c2-a583-9ed416807cc8",
   "metadata": {},
   "outputs": [],
   "source": [
    "from ast import literal_eval\n",
    "\n",
    "from glob import glob\n",
    "\n",
    "from PIL import Image\n",
    "import numpy as np\n",
    "import torch\n",
    "import torch.nn as nn\n",
    "import torch.nn.functional as F\n",
    "import timm\n",
    "from torchvision import transforms\n",
    "\n",
    "from liptrf.models.vit import L2Attention, ViT\n",
    "from liptrf.models.layers import trunc, l2_normalize"
   ]
  },
  {
   "cell_type": "code",
   "execution_count": 6,
   "id": "f18b8101-18f6-4fce-81b7-dbe7a3adc4d4",
   "metadata": {},
   "outputs": [],
   "source": [
    "model = timm.create_model('vit_tiny_patch16_224', pretrained=True)"
   ]
  },
  {
   "cell_type": "code",
   "execution_count": 7,
   "id": "bc99f8ad-f435-43de-b336-75d88ce6cd7e",
   "metadata": {},
   "outputs": [],
   "source": [
    "fin = open('../imagenet-sample-images/imagenet1000_clsidx_to_labels.txt', 'r')\n",
    "class_map = literal_eval(fin.read())\n",
    "fin.close()"
   ]
  },
  {
   "cell_type": "code",
   "execution_count": 8,
   "id": "13ee5e26-1de9-4c79-8026-9cbce4029686",
   "metadata": {},
   "outputs": [],
   "source": [
    "image_names = glob('../imagenet-sample-images/*JPEG')\n"
   ]
  },
  {
   "cell_type": "code",
   "execution_count": 34,
   "id": "6bca7ec3-cc70-46e2-8a17-b8feeec1630b",
   "metadata": {},
   "outputs": [
    {
     "name": "stdout",
     "output_type": "stream",
     "text": [
      "../imagenet-sample-images/n01484850_great_white_shark.JPEG\n",
      "great white shark, white shark, man-eater, man-eating shark, Carcharodon carcharias\n"
     ]
    }
   ],
   "source": [
    "idx = 2\n",
    "print (image_names[idx])\n",
    "img = Image.open(image_names[idx])\n",
    "img = trf(img).unsqueeze(0)\n",
    "probas = model(img)\n",
    "print (class_map[torch.argmax(probas).item()])"
   ]
  },
  {
   "cell_type": "code",
   "execution_count": 33,
   "id": "28f44465-2b11-40d1-a233-c4f1c34160db",
   "metadata": {},
   "outputs": [],
   "source": [
    "# normalize = transforms.Normalize(mean=[0.485, 0.456, 0.406], std=[0.229, 0.224, 0.225])\n",
    "trf = transforms.Compose([transforms.Resize(256), transforms.CenterCrop(224), transforms.ToTensor()])"
   ]
  },
  {
   "cell_type": "code",
   "execution_count": null,
   "id": "059ec9a8-cea6-46d8-b982-c3fb455e81c3",
   "metadata": {},
   "outputs": [],
   "source": []
  }
 ],
 "metadata": {
  "kernelspec": {
   "display_name": "Python 3 (ipykernel)",
   "language": "python",
   "name": "python3"
  },
  "language_info": {
   "codemirror_mode": {
    "name": "ipython",
    "version": 3
   },
   "file_extension": ".py",
   "mimetype": "text/x-python",
   "name": "python",
   "nbconvert_exporter": "python",
   "pygments_lexer": "ipython3",
   "version": "3.9.12"
  }
 },
 "nbformat": 4,
 "nbformat_minor": 5
}
