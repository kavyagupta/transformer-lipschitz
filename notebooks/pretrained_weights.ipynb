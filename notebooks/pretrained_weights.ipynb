{
 "cells": [
  {
   "cell_type": "code",
   "execution_count": 8,
   "id": "9c9e0b6c-7a6b-42c2-a583-9ed416807cc8",
   "metadata": {},
   "outputs": [],
   "source": [
    "import numpy as np\n",
    "import torch\n",
    "import timm\n",
    "\n",
    "from liptrf.models.vit import L2Attention, ViT"
   ]
  },
  {
   "cell_type": "code",
   "execution_count": 15,
   "id": "f18b8101-18f6-4fce-81b7-dbe7a3adc4d4",
   "metadata": {},
   "outputs": [],
   "source": [
    "model = timm.create_model('vit_tiny_patch16_224', pretrained=True)"
   ]
  },
  {
   "cell_type": "code",
   "execution_count": 16,
   "id": "3e8838b8-ad68-48f1-baae-18e70f831e5b",
   "metadata": {},
   "outputs": [
    {
     "data": {
      "text/plain": [
       "5717416"
      ]
     },
     "execution_count": 16,
     "metadata": {},
     "output_type": "execute_result"
    }
   ],
   "source": [
    "sum(p.numel() for p in model.parameters())"
   ]
  },
  {
   "cell_type": "code",
   "execution_count": 19,
   "id": "3159098a-8cf3-44ff-9abd-9dee3f00654a",
   "metadata": {},
   "outputs": [],
   "source": [
    "our_vit =  ViT(image_size=224, patch_size=16, num_classes=1000, channels=3,\n",
    "        dim=192, depth=12, heads=3, mlp_ratio=4, attention_type='DP', \n",
    "        dropout=0.1, lmbda=1)"
   ]
  },
  {
   "cell_type": "code",
   "execution_count": 20,
   "id": "2bd8bb01-c029-4425-9f4e-ce3e37aa4f98",
   "metadata": {},
   "outputs": [
    {
     "data": {
      "text/plain": [
       "5712576"
      ]
     },
     "execution_count": 20,
     "metadata": {},
     "output_type": "execute_result"
    }
   ],
   "source": [
    "sum(p.numel() for p in our_vit.parameters())"
   ]
  },
  {
   "cell_type": "code",
   "execution_count": null,
   "id": "3ebc1776-1991-491e-aca9-cabc101880e7",
   "metadata": {},
   "outputs": [],
   "source": []
  }
 ],
 "metadata": {
  "kernelspec": {
   "display_name": "Python 3 (ipykernel)",
   "language": "python",
   "name": "python3"
  },
  "language_info": {
   "codemirror_mode": {
    "name": "ipython",
    "version": 3
   },
   "file_extension": ".py",
   "mimetype": "text/x-python",
   "name": "python",
   "nbconvert_exporter": "python",
   "pygments_lexer": "ipython3",
   "version": "3.9.12"
  }
 },
 "nbformat": 4,
 "nbformat_minor": 5
}
